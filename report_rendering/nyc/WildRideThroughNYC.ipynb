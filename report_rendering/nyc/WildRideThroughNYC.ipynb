{
 "cells": [
  {
   "cell_type": "code",
   "execution_count": null,
   "metadata": {},
   "outputs": [],
   "source": [
    "@file:MavenRepository(\"bintray-plugins\", \"http://jcenter.bintray.com\")\n",
    "\n",
    "@file:DependsOnMaven(\"com.github.holgerbrandl:kravis:0.5\")\n",
    "@file:Suppress(\"PropertyName\")\n",
    "\n",
    "//@file:DependsOnMaven(\"ml.dmlc:xgboost4j:0.80\")\n",
    "\n",
    "\n",
    "import krangl.*\n",
    "import krangl.experimental.oneHot\n",
    "import kravis.*\n",
    "import kravis.OrderUtils.reorder\n",
    "import ml.dmlc.xgboost4j.java.DMatrix\n",
    "import ml.dmlc.xgboost4j.java.XGBoost\n",
    "import java.io.File\n",
    "import java.lang.Math.*\n",
    "import java.time.DayOfWeek\n",
    "import java.time.LocalDateTime\n",
    "import java.time.Month\n",
    "import java.time.format.DateTimeFormatter"
   ]
  },
  {
   "cell_type": "markdown",
   "metadata": {},
   "source": [
    "# A wild ride through NYC with Kotlin\n",
    "Predict taxi trip durations in NYC. For detail see https://www.kaggle.com/c/nyc-taxi-trip-duration"
   ]
  },
  {
   "cell_type": "code",
   "execution_count": null,
   "metadata": {},
   "outputs": [],
   "source": [
    "val dataRoot = File(\"/Users/brandl/Desktop/taxi_data\")\n",
    "\n",
    "dataRoot\n",
    "    .listFiles()\n",
    "    .forEach { println(it) }\n",
    "\n",
    "operator fun File.div(fileName: String) = this.resolve(fileName)\n",
    "\n",
    "var allTrainData = DataFrame.readCSV(dataRoot / \"train.csv\")\n",
    "var trainData = allTrainData.sampleFrac(0.3)"
   ]
  },
  {
   "cell_type": "markdown",
   "metadata": {},
   "source": [
    "Live@KC Explore structure and differences between test and training data"
   ]
  },
  {
   "cell_type": "code",
   "execution_count": null,
   "metadata": {},
   "outputs": [],
   "source": [
    "trainData\n",
    "trainData.head()\n",
    "trainData.schema()"
   ]
  },
  {
   "cell_type": "markdown",
   "metadata": {},
   "source": [
    "Live@KC Finetune shell experience"
   ]
  },
  {
   "cell_type": "code",
   "execution_count": null,
   "metadata": {},
   "outputs": [],
   "source": [
    "PRINT_MAX_WIDTH = 80\n",
    "\n",
    "trainData\n",
    "trainData.schema()"
   ]
  },
  {
   "cell_type": "markdown",
   "metadata": {},
   "source": [
    "Live@KC Compare with test data"
   ]
  },
  {
   "cell_type": "code",
   "execution_count": null,
   "metadata": {},
   "outputs": [],
   "source": [
    "var testData = DataFrame.readCSV(dataRoot / \"test.csv\")\n",
    "testData.schema()"
   ]
  },
  {
   "cell_type": "markdown",
   "metadata": {},
   "source": [
    "Live@KC How to efficiently access data-frames?"
   ]
  },
  {
   "cell_type": "code",
   "execution_count": null,
   "metadata": {},
   "outputs": [],
   "source": [
    "trainData[\"vendor_id\"]"
   ]
  },
  {
   "cell_type": "markdown",
   "metadata": {},
   "source": [
    "Define columns names as fields for better completion"
   ]
  },
  {
   "cell_type": "code",
   "execution_count": null,
   "metadata": {},
   "outputs": [],
   "source": [
    "val id: String = \"id\"\n",
    "val vendor_id: String = \"vendor_id\"\n",
    "val pickup_datetime: String = \"pickup_datetime\"\n",
    "val dropoff_datetime: String = \"dropoff_datetime\"\n",
    "val passenger_count: String = \"passenger_count\"\n",
    "val pickup_longitude: String = \"pickup_longitude\"\n",
    "val pickup_latitude: String = \"pickup_latitude\"\n",
    "val dropoff_longitude: String = \"dropoff_longitude\"\n",
    "val dropoff_latitude: String = \"dropoff_latitude\"\n",
    "val store_and_fwd_flag: String = \"store_and_fwd_flag\"\n",
    "val trip_duration: String = \"trip_duration\"\n",
    "\n",
    "val distance = \"distance\"\n",
    "val month = \"month\"\n",
    "val wday = \"wday\"\n",
    "val hour = \"hour\"\n",
    "val work = \"work\"\n",
    "\n",
    "\n",
    "trainData[vendor_id]"
   ]
  },
  {
   "cell_type": "markdown",
   "metadata": {},
   "source": [
    "## Feature Engineering"
   ]
  },
  {
   "cell_type": "code",
   "execution_count": null,
   "metadata": {},
   "outputs": [],
   "source": [
    "fun prepareFeatures(trainData: DataFrame): DataFrame {\n",
    "    var trainData = trainData\n",
    "    val datePattern = DateTimeFormatter.ofPattern(\"yyyy-MM-dd HH:mm:ss\")\n",
    "\n",
    "    // LIVE@KC explore date format\n",
    "    val aDate = trainData[pickup_datetime].asStrings().first()\n",
    "    LocalDateTime.parse(aDate!!)\n",
    "\n",
    "    trainData = trainData.addColumns(\n",
    "        pickup_datetime `=` { it[pickup_datetime].map<String> { LocalDateTime.parse(it, datePattern) } }\n",
    "    )\n",
    "    //https://stackoverflow.com/questions/639695/how-to-convert-latitude-or-longitude-to-meters\n",
    "    val coordDistance = fun(lon1: Double, lat1: Double, lon2: Double, lat2: Double): Double {\n",
    "        val R = 6378.137                                // radius of earth in Km\n",
    "        val dLat = (lat2 - lat1) * PI / 180\n",
    "        val dLon = (lon2 - lon1) * PI / 180\n",
    "        val a = pow(sin((dLat / 2)), 2.0) + cos(lat1 * PI / 180) * cos(lat2 * PI / 180) * pow(sin(dLon / 2), 2.0)\n",
    "        val c = 2 * atan2(sqrt(a), sqrt(1 - a))\n",
    "        val d = R * c\n",
    "        return (d * 1000)                           // distance in meters\n",
    "    }\n",
    "\n",
    "    trainData = trainData.addColumn(distance) {\n",
    "        df.rows.map { row ->\n",
    "            coordDistance(\n",
    "                row[pickup_longitude] as Double,\n",
    "                row[pickup_latitude] as Double,\n",
    "                row[dropoff_longitude] as Double,\n",
    "                row[dropoff_latitude] as Double\n",
    "            )\n",
    "        }\n",
    "    }\n",
    "\n",
    "    trainData = trainData.addColumns(\n",
    "        // month `=` { it[pickup_datetime].asType<LocalDateTime>().mapNonNull { it.month } },\n",
    "        month `=` { it[pickup_datetime].map<LocalDateTime>() { it.month } },\n",
    "        wday `=` { it[pickup_datetime].asType<LocalDateTime>().mapNonNull { it.dayOfWeek } },\n",
    "        hour `=` { it[pickup_datetime].asType<LocalDateTime>().mapNonNull { it.hour } },\n",
    "        work `=` { it[hour].map<Int> { (8..18).contains(it) } }\n",
    "    )\n",
    "\n",
    "    return trainData\n",
    "}\n",
    "\n",
    "\n",
    "trainData = prepareFeatures(trainData)\n",
    "trainData.schema()\n",
    "\n",
    "//trainData.writeTSV(File(\"trainDataTmp.txt\"))\n",
    "//trainData = DataFrame.readTSV(File(\"trainDataTmp.txt\"))\n",
    "\n",
    "\n",
    "//fun DataFrame.cleanup(): DataFrame = filter { it[trip_duration] lt 22 * 3600.0 }\n",
    "//        .filter { it[distance] gt 0.0 }\n",
    "//        .filter { it[trip_duration] gt 10.0 }\n",
    "//        .filter { it[\"speed\"] lt 100.0 }"
   ]
  },
  {
   "cell_type": "markdown",
   "metadata": {},
   "source": [
    "## Data Visualisation\n",
    "LIVE@KC Analyze passenger counts per trip"
   ]
  },
  {
   "cell_type": "code",
   "execution_count": null,
   "metadata": {},
   "outputs": [],
   "source": [
    "trainData.plot(x = passenger_count.asDiscreteVariable)\n",
    "    .geomBar()\n",
    "    .xLabel(\"# Passengers\")\n",
    "    .show()"
   ]
  },
  {
   "cell_type": "markdown",
   "metadata": {},
   "source": [
    "LIVE@KC Analyze overall distribution of the trip duration"
   ]
  },
  {
   "cell_type": "code",
   "execution_count": null,
   "metadata": {},
   "outputs": [],
   "source": [
    "//trainData.plot(trip_duration).geomHistogram()\n",
    "trainData.filter { it[trip_duration] lt 1000 }\n",
    "    .plot(x = trip_duration)\n",
    "    .geomHistogram()\n",
    "    .show()"
   ]
  },
  {
   "cell_type": "markdown",
   "metadata": {},
   "source": [
    "Is it really NYC?"
   ]
  },
  {
   "cell_type": "code",
   "execution_count": null,
   "metadata": {},
   "outputs": [],
   "source": [
    "trainData.plot(x = pickup_longitude, y = pickup_latitude).geomPoint(alpha = .1)\n",
    "\n",
    "fun DataFrame.constrainCoord(): DataFrame = filter {\n",
    "    with(it[pickup_longitude]) { (this gt -74.05) AND (this lt -73.75) } AND\n",
    "        with(it[pickup_latitude]) { (this gt 40.6) AND (this lt 40.9) }\n",
    "}\n",
    "\n",
    "\n",
    "trainData\n",
    "    .constrainCoord()\n",
    "    .plot(x = pickup_longitude, y = pickup_latitude)\n",
    "    .geomPoint(alpha = .1, size = .3)\n",
    "    .show()\n",
    "\n",
    "trainData\n",
    "    .constrainCoord()\n",
    "    .plot(x = pickup_longitude, y = pickup_latitude)\n",
    "    .geomBin2D(bins = 90)\n",
    "    .show()"
   ]
  },
  {
   "cell_type": "markdown",
   "metadata": {},
   "source": [
    "Correlate distance with trip duration (is it a promising predictor?)"
   ]
  },
  {
   "cell_type": "code",
   "execution_count": null,
   "metadata": {},
   "outputs": [],
   "source": [
    "trainData\n",
    "    .sampleN(1e4.toInt())\n",
    "    .plot(distance, trip_duration)\n",
    "    .geomPoint()\n",
    "    .scaleYLog10().scaleXLog10()\n",
    "    .show()"
   ]
  },
  {
   "cell_type": "markdown",
   "metadata": {},
   "source": [
    "try again  but with binning"
   ]
  },
  {
   "cell_type": "code",
   "execution_count": null,
   "metadata": {},
   "outputs": [],
   "source": [
    "trainData\n",
    "    .plot(distance, trip_duration)\n",
    "    .geomBin2D()\n",
    "    .scaleYLog10().scaleXLog10()\n",
    "    .show()"
   ]
  },
  {
   "cell_type": "markdown",
   "metadata": {},
   "source": [
    "Speed analysis"
   ]
  },
  {
   "cell_type": "code",
   "execution_count": null,
   "metadata": {},
   "outputs": [],
   "source": [
    "trainData = trainData.addColumn(\"speed\") { it[distance] / it[trip_duration] * 3.6 }\n",
    "\n",
    "\n",
    "trainData.filter { (it[\"speed\"] gt 2) AND (it[\"speed\"] lt 1e2) }\n",
    "    .plot(\"speed\")\n",
    "    .geomHistogram(fill = RColor.red, bins = 50)\n",
    "    .labs(x = \"Average speed [km/h] (direct distance)\")\n",
    "    .show()"
   ]
  },
  {
   "cell_type": "markdown",
   "metadata": {},
   "source": [
    "Live@KC Extract field for speed property\n",
    "Speed analysis by day and hour"
   ]
  },
  {
   "cell_type": "code",
   "execution_count": null,
   "metadata": {},
   "outputs": [],
   "source": [
    "trainData.addColumn(wday) { it[wday].map<DayOfWeek> { it.value } }"
   ]
  },
  {
   "cell_type": "markdown",
   "metadata": {},
   "source": [
    "Live@KC Visualize reasonable (<40) speeds per week day"
   ]
  },
  {
   "cell_type": "code",
   "execution_count": null,
   "metadata": {},
   "outputs": [],
   "source": [
    "trainData\n",
    "    .filter { it[\"speed\"] lt 40.0 }\n",
    "    .plot(wday, \"speed\").geomBoxplot()\n",
    "    .show()"
   ]
  },
  {
   "cell_type": "markdown",
   "metadata": {},
   "source": [
    "Live@KC Visualize reasonable speeds also per hour"
   ]
  },
  {
   "cell_type": "code",
   "execution_count": null,
   "metadata": {},
   "outputs": [],
   "source": [
    "trainData.filter { it[\"speed\"] lt 40.0 }\n",
    "    .plot(hour.asDiscreteVariable, \"speed\").geomBoxplot()\n",
    "    .show()"
   ]
  },
  {
   "cell_type": "markdown",
   "metadata": {},
   "source": [
    "Live@KC wday x hours x medians"
   ]
  },
  {
   "cell_type": "code",
   "execution_count": null,
   "metadata": {},
   "outputs": [],
   "source": [
    "trainData\n",
    "//    .filter { (it[\"speed\"] lt 40.0) AND (it[trip_duration] lt 3600) }\n",
    "    .groupBy(wday, hour)\n",
    "    .summarize(\"median_speed\" `=` { it[\"speed\"].median() })\n",
    "    .addColumn(\"wday_order\") { it[wday].map<DayOfWeek> { it.value } }\n",
    "    .plot(hour, reorder(wday, \"wday_order\"), fill = \"median_speed\")\n",
    "    .geomTile()\n",
    "    .labs(x = \"Hour of the day\", y = \"Day of the week\")\n",
    "    .show()"
   ]
  },
  {
   "cell_type": "markdown",
   "metadata": {},
   "source": [
    "## Build a predictive model with xgboost"
   ]
  },
  {
   "cell_type": "code",
   "execution_count": null,
   "metadata": {},
   "outputs": [],
   "source": [
    "// https://youtrack.jetbrains.net/issue/KT-24491 and // https://github.com/khud/sparklin/issues/34)\n",
    "\n",
    "// LIVE@KC Create helper to split train and validation data (inkl refac into extension method)\n",
    "fun DataFrame.splitTrainTest(splitProportion: Double = 0.7) = shuffle().run {\n",
    "    val splitter = (splitProportion * nrow).toInt()\n",
    "    slice(1..splitter) to slice((splitter + 1)..nrow)\n",
    "}\n",
    "\n",
    "//val (train, validation) = trainData.splitTrainTest(splitProportion = 0.4)\n",
    "// does not work yet in kshell\n",
    "\n",
    "val dataSplit = prepareFeatures(allTrainData).splitTrainTest()\n",
    "val trainMatDf = dataSplit.first\n",
    "var valMatDf = dataSplit.second\n",
    "\n",
    "\n",
    "fun DataFrame.selectPredictors(): DataFrame = select(\n",
    "    passenger_count, pickup_longitude, pickup_latitude, dropoff_longitude, dropoff_latitude, distance, month, wday, hour, work\n",
    ").oneHot<Month>(month)\n",
    "    .oneHot<DayOfWeek>(wday)\n",
    "    .addColumn(work) { rows.map { if (it[work] as Boolean) 1 else 0 } }\n",
    "\n",
    "\n",
    "fun DataFrame.buildTrainMatrix(responseVariable: String = trip_duration): DMatrix {\n",
    "    val x = selectPredictors().toFloatMatrix()\n",
    "    val xLong: FloatArray = x.reduce { left, right -> left + right }\n",
    "    val y = this[responseVariable].asDoubles().map { it!!.toFloat() }.toFloatArray()\n",
    "    return DMatrix(xLong, nrow, ncol - 1).apply { label = y }\n",
    "}\n",
    "\n",
    "// visualize feature matrix\n",
    "//trainMatDf.head(2000)\n",
    "//    .addColumn(\"id\"){rowNumber}\n",
    "//    .gather(\"predictor\", \"value\", columns= { except(\"id\")})\n",
    "//    .plot(\"predictor\", \"id\", fill=\"value\")\n",
    "//    .geomTile()\n",
    "//    .theme(axisTitleX=ElementTextBlank())\n",
    "\n",
    "\n",
    "//trainMatDf.toFloatMatrix().reduce { left, right -> left + right }.size\n",
    "// Construct the training input for XGBoost\n",
    "val trainMat = trainMatDf.buildTrainMatrix()\n",
    "\n",
    "\n",
    "val params = hashMapOf<String, Any>().apply {\n",
    "    put(\"objective\", \"reg:linear\")\n",
    "    put(\"eval_metric\", \"rmse\")\n",
    "}\n",
    "\n",
    "\n",
    "val watches = hashMapOf<String, DMatrix>().apply {\n",
    "    put(\"train\", trainMat)\n",
    "    put(\"validation\", valMatDf.buildTrainMatrix())\n",
    "}\n",
    "\n",
    "// number of boosting iteration =3 would just build a simple 2-step function model\n",
    "val nround = 10\n",
    "val booster = XGBoost.train(trainMat, params, nround, watches, null, null)"
   ]
  },
  {
   "cell_type": "markdown",
   "metadata": {},
   "source": [
    "How does our model look like"
   ]
  },
  {
   "cell_type": "code",
   "execution_count": null,
   "metadata": {},
   "outputs": [],
   "source": [
    "booster"
   ]
  },
  {
   "cell_type": "markdown",
   "metadata": {},
   "source": [
    "Predict trip duration"
   ]
  },
  {
   "cell_type": "code",
   "execution_count": null,
   "metadata": {},
   "outputs": [],
   "source": [
    "//var predicts = booster.predict(trainMat)\n",
    "var predicts = booster.predict(valMatDf.buildTrainMatrix())"
   ]
  },
  {
   "cell_type": "markdown",
   "metadata": {},
   "source": [
    "Unwrap result"
   ]
  },
  {
   "cell_type": "code",
   "execution_count": null,
   "metadata": {},
   "outputs": [],
   "source": [
    "val predictUnwrapped = predicts.map { it.first() }\n",
    "\n",
    "predicts.size"
   ]
  },
  {
   "cell_type": "markdown",
   "metadata": {},
   "source": [
    "Combine predictions with ground truth"
   ]
  },
  {
   "cell_type": "code",
   "execution_count": null,
   "metadata": {},
   "outputs": [],
   "source": [
    "val predTripDurcation = \"predicted_trip_duration\"\n",
    "valMatDf = valMatDf.addColumn(predTripDurcation) { predictUnwrapped }\n",
    "valMatDf.schema()"
   ]
  },
  {
   "cell_type": "markdown",
   "metadata": {},
   "source": [
    "LIVE@KC explore correlation between ground truth and predicted duration"
   ]
  },
  {
   "cell_type": "code",
   "execution_count": null,
   "metadata": {},
   "outputs": [],
   "source": [
    "valMatDf.sampleN(10000)\n",
    "    .plot(x = trip_duration, y = predTripDurcation)\n",
    "    .geomPoint(alpha = .1)\n",
    "    .scaleXLog10()\n",
    "    .scaleYLog10()\n",
    "    .show()\n",
    "\n",
    "\n",
    "// explore feature importance\n",
    "//booster.getFeatureScore(null)"
   ]
  },
  {
   "cell_type": "markdown",
   "metadata": {},
   "source": [
    "## Prepare submission file"
   ]
  },
  {
   "cell_type": "code",
   "execution_count": null,
   "metadata": {},
   "outputs": [],
   "source": [
    "fun DataFrame.buildTestMatrix(): DMatrix {\n",
    "    val x = toFloatMatrix()\n",
    "    val xLong: FloatArray = x.reduce { left, right -> left + right }\n",
    "    return DMatrix(xLong, nrow, ncol)\n",
    "}\n",
    "\n",
    "\n",
    "val testFeat = prepareFeatures(testData).selectPredictors().buildTestMatrix()\n",
    "\n",
    "var testPrediction = booster.predict(testFeat).map { it.first() }"
   ]
  },
  {
   "cell_type": "markdown",
   "metadata": {},
   "source": [
    "LIVE@KC create final submission file"
   ]
  },
  {
   "cell_type": "code",
   "execution_count": null,
   "metadata": {},
   "outputs": [],
   "source": [
    "val kaggleSubmission = testData\n",
    "    .addColumn(\"trip_duration\") { testPrediction }\n",
    "    .select(\"id\", \"trip_duration\")"
   ]
  },
  {
   "cell_type": "markdown",
   "metadata": {},
   "source": [
    "Final Results schema"
   ]
  },
  {
   "cell_type": "code",
   "execution_count": null,
   "metadata": {},
   "outputs": [],
   "source": [
    "kaggleSubmission.schema()\n",
    "kaggleSubmission.writeCSV(File(\"kotlin4kaggle.csv\"))\n",
    "\n",
    "println(\"Finished first (out of N>>1) kaggle iteration using kotlin!\")"
   ]
  },
  {
   "cell_type": "markdown",
   "metadata": {},
   "source": [
    "submit with\n",
    "`kaggle competitions submit -c nyc-taxi-trip-duration -f kotlin4kaggle.csv -m \"Proof of Concept kernel written in Kotlin\"`"
   ]
  }
 ],
 "metadata": {},
 "nbformat": 4,
 "nbformat_minor": 2
}
